{
 "cells": [
  {
   "cell_type": "markdown",
   "id": "international-omaha",
   "metadata": {},
   "source": [
    "## 拼音分解"
   ]
  },
  {
   "cell_type": "code",
   "execution_count": 1,
   "id": "intelligent-publisher",
   "metadata": {},
   "outputs": [],
   "source": [
    "from pypinyin import pinyin, lazy_pinyin, Style"
   ]
  },
  {
   "cell_type": "code",
   "execution_count": 2,
   "id": "biblical-retreat",
   "metadata": {},
   "outputs": [
    {
     "name": "stdout",
     "output_type": "stream",
     "text": [
      "['zhong', 'xin']\n",
      "['n']\n",
      "[['z'], ['x']]\n",
      "<class 'list'>\n"
     ]
    }
   ],
   "source": [
    "print(lazy_pinyin('中心') )\n",
    "print(lazy_pinyin('嗯'))\n",
    "print(pinyin('中心', style=Style.FIRST_LETTER))\n",
    "print(type(pinyin('中心', style=Style.FIRST_LETTER)))"
   ]
  },
  {
   "cell_type": "markdown",
   "id": "numerical-berlin",
   "metadata": {},
   "source": [
    "## 获取剪贴板内容"
   ]
  },
  {
   "cell_type": "code",
   "execution_count": 3,
   "id": "clinical-swing",
   "metadata": {},
   "outputs": [],
   "source": [
    "import win32clipboard as w\n",
    "import win32con\n",
    "\n",
    "\n",
    "def get_text():\n",
    "    w.OpenClipboard()\n",
    "    d = w.GetClipboardData(win32con.CF_TEXT)\n",
    "    w.CloseClipboard()\n",
    "    return d.decode('GBK')\n",
    "\n",
    "\n",
    "def set_text(aString):\n",
    "    w.OpenClipboard()\n",
    "    w.EmptyClipboard()\n",
    "    w.SetClipboardData(win32con.CF_TEXT, aString)\n",
    "    w.CloseClipboard()\n",
    "\n"
   ]
  },
  {
   "cell_type": "code",
   "execution_count": 67,
   "id": "ready-sharp",
   "metadata": {},
   "outputs": [
    {
     "name": "stdout",
     "output_type": "stream",
     "text": [
      "我们将要讨论的问题是关于：这件事儿要怎么处理的问题。\n"
     ]
    }
   ],
   "source": [
    "# # 读取剪切板内容\n",
    "ss = get_text()\n",
    "print(ss)"
   ]
  },
  {
   "cell_type": "code",
   "execution_count": 5,
   "id": "integral-indicator",
   "metadata": {},
   "outputs": [
    {
     "name": "stdout",
     "output_type": "stream",
     "text": [
      "['ji', 'suan', 'ding', 'ji', 'fen', 'de', 'sui', 'ji', 'fu', 'dian', 'shu', 'xxxxxxx']\n"
     ]
    }
   ],
   "source": [
    "print(lazy_pinyin(ss))"
   ]
  },
  {
   "cell_type": "markdown",
   "id": "continuing-prison",
   "metadata": {},
   "source": [
    "## 分词"
   ]
  },
  {
   "cell_type": "code",
   "execution_count": 6,
   "id": "grand-breakfast",
   "metadata": {},
   "outputs": [],
   "source": [
    "import jieba"
   ]
  },
  {
   "cell_type": "code",
   "execution_count": 82,
   "id": "convenient-junior",
   "metadata": {},
   "outputs": [
    {
     "name": "stdout",
     "output_type": "stream",
     "text": [
      "我们 我们 : women b'\\xe6\\x88\\x91\\xe4\\xbb\\xac'\n",
      "将要 将要 : jiangyao b'\\xe5\\xb0\\x86\\xe8\\xa6\\x81'\n",
      "讨论 讨论 : taolun b'\\xe8\\xae\\xa8\\xe8\\xae\\xba'\n",
      "的 的 : de b'\\xe7\\x9a\\x84'\n",
      "问题 问题 : wenti b'\\xe9\\x97\\xae\\xe9\\xa2\\x98'\n",
      "是 是 : shi b'\\xe6\\x98\\xaf'\n",
      "关于 关于 : guanyu b'\\xe5\\x85\\xb3\\xe4\\xba\\x8e'\n",
      "： ： : ： b'\\xef\\xbc\\x9a'\n",
      "这件 这件 : zhejian b'\\xe8\\xbf\\x99\\xe4\\xbb\\xb6'\n",
      "事儿 事儿 : shier b'\\xe4\\xba\\x8b\\xe5\\x84\\xbf'\n",
      "要 要 : yao b'\\xe8\\xa6\\x81'\n",
      "问问 问问 : wenwen b'\\xe9\\x97\\xae\\xe9\\x97\\xae'\n",
      "Joy Joy : Joy b'Joy'\n",
      "怎么 怎么 : zenme b'\\xe6\\x80\\x8e\\xe4\\xb9\\x88'\n",
      "处理 处理 : chuli b'\\xe5\\xa4\\x84\\xe7\\x90\\x86'\n",
      "的 的 : de b'\\xe7\\x9a\\x84'\n",
      "问题 问题 : wenti b'\\xe9\\x97\\xae\\xe9\\xa2\\x98'\n",
      "。 。 : 。 b'\\xe3\\x80\\x82'\n"
     ]
    }
   ],
   "source": [
    "ss = get_text()\n",
    "cut_res_generator = jieba.cut(ss)\n",
    "for word in cut_res_generator:\n",
    "    print(word, end = ' ')\n",
    "    print(f\"{word} : {''.join(lazy_pinyin(word))} {word.encode('utf-8')}\")\n",
    "    \n",
    "    "
   ]
  },
  {
   "cell_type": "markdown",
   "id": "pregnant-treaty",
   "metadata": {},
   "source": [
    "*ascii的英文有效范围为 65 ~ 90 97 ~ 122*"
   ]
  },
  {
   "cell_type": "code",
   "execution_count": 24,
   "id": "numerical-ministry",
   "metadata": {},
   "outputs": [
    {
     "name": "stdout",
     "output_type": "stream",
     "text": [
      "120\n"
     ]
    }
   ],
   "source": [
    "# if 'x'>= 65 and 'x'<(65+26):\n",
    "#     print('yes')\n",
    "# else:\n",
    "#     print('no')\n",
    "#\n",
    "asci = 'xxx是'.encode('utf-8')[0]\n",
    "print(asci)"
   ]
  },
  {
   "cell_type": "markdown",
   "id": "alert-alignment",
   "metadata": {},
   "source": [
    "## 键入脚本"
   ]
  },
  {
   "cell_type": "code",
   "execution_count": 30,
   "id": "modern-database",
   "metadata": {},
   "outputs": [],
   "source": [
    "import ctypes\n",
    "import time\n",
    "\n",
    "SendInput = ctypes.windll.user32.SendInput\n",
    "\n",
    "# C struct redefinitions\n",
    "PUL = ctypes.POINTER(ctypes.c_ulong)\n",
    "class KeyBdInput(ctypes.Structure):\n",
    "    _fields_ = [(\"wVk\", ctypes.c_ushort),\n",
    "                (\"wScan\", ctypes.c_ushort),\n",
    "                (\"dwFlags\", ctypes.c_ulong),\n",
    "                (\"time\", ctypes.c_ulong),\n",
    "                (\"dwExtraInfo\", ctypes.POINTER(ctypes.c_ulong))]\n",
    "\n",
    "class HardwareInput(ctypes.Structure):\n",
    "    _fields_ = [(\"uMsg\", ctypes.c_ulong),\n",
    "                (\"wParamL\", ctypes.c_short),\n",
    "                (\"wParamH\", ctypes.c_ushort)]\n",
    "\n",
    "class MouseInput(ctypes.Structure):\n",
    "    _fields_ = [(\"dx\", ctypes.c_long),\n",
    "                (\"dy\", ctypes.c_long),\n",
    "                (\"mouseData\", ctypes.c_ulong),\n",
    "                (\"dwFlags\", ctypes.c_ulong),\n",
    "                (\"time\",ctypes.c_ulong),\n",
    "                (\"dwExtraInfo\", ctypes.POINTER(ctypes.c_ulong))]\n",
    "\n",
    "class Input_I(ctypes.Union):\n",
    "    _fields_ = [(\"ki\", KeyBdInput),\n",
    "                 (\"mi\", MouseInput),\n",
    "                 (\"hi\", HardwareInput)]\n",
    "\n",
    "class Input(ctypes.Structure):\n",
    "    _fields_ = [(\"type\", ctypes.c_ulong),\n",
    "                (\"ii\", Input_I)]\n",
    "\n",
    "# Actuals Functions\n",
    "\n",
    "def PressKey(hexKeyCode):\n",
    "\n",
    "    extra = ctypes.c_ulong(0)\n",
    "    ii_ = Input_I()\n",
    "    ii_.ki = KeyBdInput( hexKeyCode, 0x48, 0, 0, ctypes.pointer(extra) )\n",
    "    x = Input( ctypes.c_ulong(1), ii_ )\n",
    "    ctypes.windll.user32.SendInput(1, ctypes.pointer(x), ctypes.sizeof(x))\n",
    "\n",
    "def ReleaseKey(hexKeyCode):\n",
    "\n",
    "    extra = ctypes.c_ulong(0)\n",
    "    ii_ = Input_I()\n",
    "    ii_.ki = KeyBdInput( hexKeyCode, 0x48, 0x0002, 0, ctypes.pointer(extra) )\n",
    "    x = Input( ctypes.c_ulong(1), ii_ )\n",
    "    ctypes.windll.user32.SendInput(1, ctypes.pointer(x), ctypes.sizeof(x))\n",
    "def EnterKey(hexKeyCode):\n",
    "    PressKey(hexKeyCode)\n",
    "    ReleaseKey(hexKeyCode)"
   ]
  },
  {
   "cell_type": "code",
   "execution_count": 31,
   "id": "italic-subsection",
   "metadata": {},
   "outputs": [],
   "source": [
    "#字母转keycode\n",
    "def transform_char(char):\n",
    "    if(char == ' '):\n",
    "        key = 32\n",
    "    elif(ord(char) == 10):\n",
    "        key = 13\n",
    "        count += 1\n",
    "    elif(ord(char) == 46):#.\n",
    "        key = 110\n",
    "    elif(ord(char) == 44):#,\n",
    "        key = 188\n",
    "    elif(ord(char) == 63):\n",
    "        key = 191\n",
    "    else:\n",
    "        key = ord(char.upper())\n",
    "    return key"
   ]
  },
  {
   "cell_type": "code",
   "execution_count": 33,
   "id": "electrical-fiction",
   "metadata": {},
   "outputs": [],
   "source": [
    "#pinyin -> pinyin + \" \"\n",
    "#ascii -> ascii\n",
    "\n",
    "time.sleep(3)\n",
    "pinyin_str = \"jisuan \"\n",
    "for char in pinyin_str:  \n",
    "    EnterKey(transform_char(char))\n",
    "\n"
   ]
  },
  {
   "cell_type": "code",
   "execution_count": null,
   "id": "parallel-xerox",
   "metadata": {},
   "outputs": [],
   "source": [
    "## 处理核心（main）\n",
    "\n",
    "\n",
    "\n"
   ]
  },
  {
   "cell_type": "code",
   "execution_count": 7,
   "id": "blond-preliminary",
   "metadata": {},
   "outputs": [],
   "source": [
    "#Tool class\n",
    "\n",
    "from pypinyin import pinyin, lazy_pinyin, Style\n",
    "import win32clipboard as w\n",
    "import win32con\n",
    "import ctypes\n",
    "import time\n",
    "import jieba\n",
    "\n",
    " # tool class\n",
    "class KeyBdInput(ctypes.Structure):\n",
    "    _fields_ = [(\"wVk\", ctypes.c_ushort),\n",
    "            (\"wScan\", ctypes.c_ushort),\n",
    "            (\"dwFlags\", ctypes.c_ulong),\n",
    "            (\"time\", ctypes.c_ulong),\n",
    "            (\"dwExtraInfo\", ctypes.POINTER(ctypes.c_ulong))]\n",
    "class HardwareInput(ctypes.Structure):\n",
    "    _fields_ = [(\"uMsg\", ctypes.c_ulong),\n",
    "            (\"wParamL\", ctypes.c_short),\n",
    "            (\"wParamH\", ctypes.c_ushort)]\n",
    "class MouseInput(ctypes.Structure):\n",
    "    _fields_ = [(\"dx\", ctypes.c_long),\n",
    "            (\"dy\", ctypes.c_long),\n",
    "            (\"mouseData\", ctypes.c_ulong),\n",
    "            (\"dwFlags\", ctypes.c_ulong),\n",
    "            (\"time\",ctypes.c_ulong),\n",
    "            (\"dwExtraInfo\", ctypes.POINTER(ctypes.c_ulong))]\n",
    "class Input_I(ctypes.Union):\n",
    "    _fields_ = [(\"ki\", KeyBdInput),\n",
    "             (\"mi\", MouseInput),\n",
    "             (\"hi\", HardwareInput)]\n",
    "class Input(ctypes.Structure):\n",
    "    _fields_ = [(\"type\", ctypes.c_ulong),\n",
    "            (\"ii\", Input_I)]\n",
    "    \n",
    "class Process(object):\n",
    "    def __init__(self):\n",
    "        ##剪贴板内容\n",
    "        self._content = self.get_clip_text()\n",
    "        self._cutList = list()\n",
    "    def getContent(self):\n",
    "        return self._content\n",
    "    \n",
    "    def getCutList(self):\n",
    "        return self._cutList\n",
    "    \n",
    "    def contentCutProcess(self):\n",
    "        cut_generator = jieba.cut(self.getContent())\n",
    "        for word in cut_generator:\n",
    "            if (word[0].encode('utf-8') >= b'a' and word[0].encode('utf-8') <= b'z') \\\n",
    "                    or (word[0].encode('utf-8') >= b'A' and word[0].encode('utf-8') <= b'Z'):\n",
    "                self._cutList.append(word+\"| \")\n",
    "            else:\n",
    "                self._cutList.append(\"\".join(lazy_pinyin(word))+\" \")\n",
    "    def typeWord(self):\n",
    "        for typeList in self._cutList:\n",
    "            for char in typeList:\n",
    "                if char == '|':\n",
    "                    Process.EnterShiftKey(Process.transform_char('|'))\n",
    "                else:\n",
    "                    Process.EnterKey(Process.transform_char(char))\n",
    "    \n",
    "    def start(self):\n",
    "        self.contentCutProcess()\n",
    "        self.typeWord()\n",
    "        \n",
    "    \n",
    "    \n",
    "    @staticmethod\n",
    "    def transform_char(char):\n",
    "        if(char in '，。、；‘【】、《》？“：'):\n",
    "            key = 32 #用空格代替特殊字符\n",
    "        else:\n",
    "            if(char == ' '):\n",
    "                key = 32\n",
    "            elif char == '|':\n",
    "                key = 220\n",
    "            elif(ord(char) == 10):\n",
    "                key = 13\n",
    "            elif(ord(char) == 46):#.\n",
    "                key = 110\n",
    "            elif(ord(char) == 44):#,\n",
    "                key = 188\n",
    "            elif(ord(char) == 63):\n",
    "                key = 191\n",
    "            else:\n",
    "                key = ord(char.upper())\n",
    "        return key\n",
    "        \n",
    "    #read from clip static function\n",
    "    @staticmethod\n",
    "    def get_clip_text():\n",
    "        try:\n",
    "            w.OpenClipboard()\n",
    "            d = w.GetClipboardData(win32con.CF_TEXT)\n",
    "            w.CloseClipboard()\n",
    "        except TypeError:\n",
    "            w.CloseClipboard()\n",
    "            return \"\"\n",
    "        else:\n",
    "            return d.decode('GBK')\n",
    "#         return d.decode('GBK')\n",
    "    \n",
    "    #key press static function\n",
    "    @staticmethod\n",
    "    def PressKey(hexKeyCode):\n",
    "        extra = ctypes.c_ulong(0)\n",
    "        ii_ = Input_I()\n",
    "        ii_.ki = KeyBdInput( hexKeyCode, 0x48, 0, 0, ctypes.pointer(extra) )\n",
    "        x = Input( ctypes.c_ulong(1), ii_ )\n",
    "        ctypes.windll.user32.SendInput(1, ctypes.pointer(x), ctypes.sizeof(x))\n",
    "    @staticmethod\n",
    "    def ReleaseKey(hexKeyCode):\n",
    "        extra = ctypes.c_ulong(0)\n",
    "        ii_ = Input_I()\n",
    "        ii_.ki = KeyBdInput( hexKeyCode, 0x48, 0x0002, 0, ctypes.pointer(extra) )\n",
    "        x = Input( ctypes.c_ulong(1), ii_ )\n",
    "        ctypes.windll.user32.SendInput(1, ctypes.pointer(x), ctypes.sizeof(x))\n",
    "    @staticmethod\n",
    "    def EnterKey(hexKeyCode):\n",
    "        Process.PressKey(hexKeyCode)\n",
    "        Process.ReleaseKey(hexKeyCode)\n",
    "    @staticmethod\n",
    "    def EnterShiftKey(hexKeyCode):\n",
    "        Process.PressKey(16) # shift\n",
    "        Process.PressKey(hexKeyCode)\n",
    "        Process.ReleaseKey(hexKeyCode)\n",
    "        Process.ReleaseKey(16)\n",
    "    \n",
    "\n",
    "# cut_res_generator = jieba.cut(ss)\n",
    "# for word in cut_res_generator:\n",
    "#     if(word[0])\n",
    "#     print(f\"{word} : {''.join(lazy_pinyin(word))}\")\n",
    "    \n",
    "    "
   ]
  },
  {
   "cell_type": "code",
   "execution_count": 51,
   "id": "portable-disco",
   "metadata": {},
   "outputs": [],
   "source": [
    "#清空剪贴板\n",
    "w.OpenClipboard()\n",
    "w.EmptyClipboard()\n",
    "w.CloseClipboard()"
   ]
  },
  {
   "cell_type": "code",
   "execution_count": 60,
   "id": "useful-apache",
   "metadata": {},
   "outputs": [
    {
     "name": "stdout",
     "output_type": "stream",
     "text": [
      "0\n"
     ]
    }
   ],
   "source": [
    "\n",
    "# process = Process()\n",
    "# print(process.getContent())\n",
    "# try:\n",
    "#     ss = Process.get_clip_text()\n",
    "# except TypeError:\n",
    "#     print('error happened')\n",
    "# else:\n",
    "#     print('nothing')\n",
    "\n",
    "ss = Process.get_clip_text()\n",
    "print(len(ss))\n"
   ]
  },
  {
   "cell_type": "code",
   "execution_count": 86,
   "id": "attended-fundamentals",
   "metadata": {},
   "outputs": [
    {
     "name": "stdout",
     "output_type": "stream",
     "text": [
      "['women ', 'jiangyao ', 'taolun ', 'de ', 'wenti ', 'shi ', 'guanyu ', '： ', 'zhejian ', 'shier ', 'yao ', 'wenwen ', 'Joy', 'zenme ', 'chuli ', 'de ', 'wenti ', '。 ']\n"
     ]
    }
   ],
   "source": [
    "process = Process()\n",
    "process.contentCutProcess()\n",
    "print(process.getCutList())"
   ]
  },
  {
   "cell_type": "code",
   "execution_count": 9,
   "id": "modern-reunion",
   "metadata": {},
   "outputs": [],
   "source": [
    "time.sleep(3)\n",
    "process = Process()\n",
    "process.start()"
   ]
  },
  {
   "cell_type": "code",
   "execution_count": null,
   "id": "junior-study",
   "metadata": {},
   "outputs": [],
   "source": []
  }
 ],
 "metadata": {
  "kernelspec": {
   "display_name": "Python 3",
   "language": "python",
   "name": "python3"
  },
  "language_info": {
   "codemirror_mode": {
    "name": "ipython",
    "version": 3
   },
   "file_extension": ".py",
   "mimetype": "text/x-python",
   "name": "python",
   "nbconvert_exporter": "python",
   "pygments_lexer": "ipython3",
   "version": "3.6.5"
  }
 },
 "nbformat": 4,
 "nbformat_minor": 5
}
